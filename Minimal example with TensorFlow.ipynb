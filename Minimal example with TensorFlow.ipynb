{
 "cells": [
  {
   "cell_type": "markdown",
   "id": "74d617d6",
   "metadata": {},
   "source": [
    "## Import the relevant libraries"
   ]
  },
  {
   "cell_type": "code",
   "execution_count": 6,
   "id": "a613dc9d",
   "metadata": {},
   "outputs": [],
   "source": [
    "import numpy as np\n",
    "import matplotlib.pyplot as plt\n",
    "import tensorflow as tf"
   ]
  },
  {
   "cell_type": "markdown",
   "id": "6819eaa8",
   "metadata": {},
   "source": [
    "## Data Generation"
   ]
  },
  {
   "cell_type": "code",
   "execution_count": 7,
   "id": "cd81bf24",
   "metadata": {},
   "outputs": [],
   "source": [
    "observations = 10000\n",
    "\n",
    "xs = np.random.uniform(low = -10, high = 10, size = (observations,1))\n",
    "zs = np.random.uniform(-10,10,(observations,1))\n",
    "\n",
    "\n",
    "# np.column_stack() = stack 1-D arrays as columns into a 2-D array.\n",
    "\n",
    "generated_inputs = np.column_stack((xs, zs))\n",
    "\n",
    "noise = np.random.uniform(-1, 1, (observations,1))\n",
    "\n",
    "generated_targets = 2 * xs + 5 + noise\n",
    "\n",
    "\n",
    "# np.savez() = saves n-dimensional arrays in npz format, using a certain keyword(label)\n",
    "# for each array\n",
    "\n",
    "np.savez('TF_intro', inputs = generated_inputs, targets = generated_targets)\n"
   ]
  },
  {
   "cell_type": "markdown",
   "id": "20417547",
   "metadata": {},
   "source": [
    "## Solving with TensorFlow"
   ]
  },
  {
   "cell_type": "code",
   "execution_count": 8,
   "id": "e8f66085",
   "metadata": {},
   "outputs": [],
   "source": [
    "training_data = np.load('TF_intro.npz')"
   ]
  },
  {
   "cell_type": "code",
   "execution_count": 25,
   "id": "4deebfac",
   "metadata": {},
   "outputs": [
    {
     "name": "stdout",
     "output_type": "stream",
     "text": [
      "Epoch 1/100\n",
      "313/313 - 0s - loss: 3.0908 - 417ms/epoch - 1ms/step\n",
      "Epoch 2/100\n",
      "313/313 - 0s - loss: 0.3458 - 177ms/epoch - 565us/step\n",
      "Epoch 3/100\n",
      "313/313 - 0s - loss: 0.3448 - 177ms/epoch - 567us/step\n",
      "Epoch 4/100\n",
      "313/313 - 0s - loss: 0.3426 - 177ms/epoch - 565us/step\n",
      "Epoch 5/100\n",
      "313/313 - 0s - loss: 0.3442 - 179ms/epoch - 573us/step\n",
      "Epoch 6/100\n",
      "313/313 - 0s - loss: 0.3439 - 178ms/epoch - 570us/step\n",
      "Epoch 7/100\n",
      "313/313 - 0s - loss: 0.3440 - 178ms/epoch - 568us/step\n",
      "Epoch 8/100\n",
      "313/313 - 0s - loss: 0.3443 - 177ms/epoch - 564us/step\n",
      "Epoch 9/100\n",
      "313/313 - 0s - loss: 0.3427 - 177ms/epoch - 566us/step\n",
      "Epoch 10/100\n",
      "313/313 - 0s - loss: 0.3450 - 175ms/epoch - 558us/step\n",
      "Epoch 11/100\n",
      "313/313 - 0s - loss: 0.3423 - 173ms/epoch - 554us/step\n",
      "Epoch 12/100\n",
      "313/313 - 0s - loss: 0.3438 - 174ms/epoch - 556us/step\n",
      "Epoch 13/100\n",
      "313/313 - 0s - loss: 0.3440 - 174ms/epoch - 557us/step\n",
      "Epoch 14/100\n",
      "313/313 - 0s - loss: 0.3434 - 175ms/epoch - 558us/step\n",
      "Epoch 15/100\n",
      "313/313 - 0s - loss: 0.3428 - 172ms/epoch - 549us/step\n",
      "Epoch 16/100\n",
      "313/313 - 0s - loss: 0.3431 - 173ms/epoch - 552us/step\n",
      "Epoch 17/100\n",
      "313/313 - 0s - loss: 0.3419 - 173ms/epoch - 554us/step\n",
      "Epoch 18/100\n",
      "313/313 - 0s - loss: 0.3442 - 180ms/epoch - 575us/step\n",
      "Epoch 19/100\n",
      "313/313 - 0s - loss: 0.3427 - 172ms/epoch - 550us/step\n",
      "Epoch 20/100\n",
      "313/313 - 0s - loss: 0.3442 - 174ms/epoch - 555us/step\n",
      "Epoch 21/100\n",
      "313/313 - 0s - loss: 0.3451 - 172ms/epoch - 551us/step\n",
      "Epoch 22/100\n",
      "313/313 - 0s - loss: 0.3439 - 173ms/epoch - 554us/step\n",
      "Epoch 23/100\n",
      "313/313 - 0s - loss: 0.3440 - 176ms/epoch - 564us/step\n",
      "Epoch 24/100\n",
      "313/313 - 0s - loss: 0.3438 - 176ms/epoch - 561us/step\n",
      "Epoch 25/100\n",
      "313/313 - 0s - loss: 0.3448 - 174ms/epoch - 555us/step\n",
      "Epoch 26/100\n",
      "313/313 - 0s - loss: 0.3447 - 175ms/epoch - 558us/step\n",
      "Epoch 27/100\n",
      "313/313 - 0s - loss: 0.3433 - 176ms/epoch - 562us/step\n",
      "Epoch 28/100\n",
      "313/313 - 0s - loss: 0.3452 - 174ms/epoch - 555us/step\n",
      "Epoch 29/100\n",
      "313/313 - 0s - loss: 0.3426 - 174ms/epoch - 555us/step\n",
      "Epoch 30/100\n",
      "313/313 - 0s - loss: 0.3463 - 175ms/epoch - 559us/step\n",
      "Epoch 31/100\n",
      "313/313 - 0s - loss: 0.3436 - 174ms/epoch - 556us/step\n",
      "Epoch 32/100\n",
      "313/313 - 0s - loss: 0.3428 - 172ms/epoch - 550us/step\n",
      "Epoch 33/100\n",
      "313/313 - 0s - loss: 0.3462 - 172ms/epoch - 550us/step\n",
      "Epoch 34/100\n",
      "313/313 - 0s - loss: 0.3445 - 173ms/epoch - 552us/step\n",
      "Epoch 35/100\n",
      "313/313 - 0s - loss: 0.3455 - 174ms/epoch - 554us/step\n",
      "Epoch 36/100\n",
      "313/313 - 0s - loss: 0.3452 - 177ms/epoch - 566us/step\n",
      "Epoch 37/100\n",
      "313/313 - 0s - loss: 0.3457 - 174ms/epoch - 556us/step\n",
      "Epoch 38/100\n",
      "313/313 - 0s - loss: 0.3428 - 198ms/epoch - 632us/step\n",
      "Epoch 39/100\n",
      "313/313 - 0s - loss: 0.3443 - 176ms/epoch - 561us/step\n",
      "Epoch 40/100\n",
      "313/313 - 0s - loss: 0.3460 - 183ms/epoch - 584us/step\n",
      "Epoch 41/100\n",
      "313/313 - 0s - loss: 0.3427 - 176ms/epoch - 562us/step\n",
      "Epoch 42/100\n",
      "313/313 - 0s - loss: 0.3445 - 181ms/epoch - 578us/step\n",
      "Epoch 43/100\n",
      "313/313 - 0s - loss: 0.3442 - 180ms/epoch - 575us/step\n",
      "Epoch 44/100\n",
      "313/313 - 0s - loss: 0.3411 - 173ms/epoch - 553us/step\n",
      "Epoch 45/100\n",
      "313/313 - 0s - loss: 0.3429 - 174ms/epoch - 557us/step\n",
      "Epoch 46/100\n",
      "313/313 - 0s - loss: 0.3428 - 173ms/epoch - 553us/step\n",
      "Epoch 47/100\n",
      "313/313 - 0s - loss: 0.3439 - 173ms/epoch - 554us/step\n",
      "Epoch 48/100\n",
      "313/313 - 0s - loss: 0.3431 - 173ms/epoch - 552us/step\n",
      "Epoch 49/100\n",
      "313/313 - 0s - loss: 0.3417 - 173ms/epoch - 554us/step\n",
      "Epoch 50/100\n",
      "313/313 - 0s - loss: 0.3433 - 174ms/epoch - 555us/step\n",
      "Epoch 51/100\n",
      "313/313 - 0s - loss: 0.3433 - 175ms/epoch - 559us/step\n",
      "Epoch 52/100\n",
      "313/313 - 0s - loss: 0.3463 - 175ms/epoch - 559us/step\n",
      "Epoch 53/100\n",
      "313/313 - 0s - loss: 0.3441 - 173ms/epoch - 552us/step\n",
      "Epoch 54/100\n",
      "313/313 - 0s - loss: 0.3426 - 175ms/epoch - 558us/step\n",
      "Epoch 55/100\n",
      "313/313 - 0s - loss: 0.3444 - 174ms/epoch - 557us/step\n",
      "Epoch 56/100\n",
      "313/313 - 0s - loss: 0.3461 - 176ms/epoch - 564us/step\n",
      "Epoch 57/100\n",
      "313/313 - 0s - loss: 0.3437 - 176ms/epoch - 561us/step\n",
      "Epoch 58/100\n",
      "313/313 - 0s - loss: 0.3447 - 172ms/epoch - 551us/step\n",
      "Epoch 59/100\n",
      "313/313 - 0s - loss: 0.3430 - 171ms/epoch - 545us/step\n",
      "Epoch 60/100\n",
      "313/313 - 0s - loss: 0.3445 - 172ms/epoch - 549us/step\n",
      "Epoch 61/100\n",
      "313/313 - 0s - loss: 0.3417 - 172ms/epoch - 549us/step\n",
      "Epoch 62/100\n",
      "313/313 - 0s - loss: 0.3468 - 171ms/epoch - 548us/step\n",
      "Epoch 63/100\n",
      "313/313 - 0s - loss: 0.3434 - 172ms/epoch - 549us/step\n",
      "Epoch 64/100\n",
      "313/313 - 0s - loss: 0.3453 - 172ms/epoch - 550us/step\n",
      "Epoch 65/100\n",
      "313/313 - 0s - loss: 0.3442 - 171ms/epoch - 547us/step\n",
      "Epoch 66/100\n",
      "313/313 - 0s - loss: 0.3418 - 171ms/epoch - 546us/step\n",
      "Epoch 67/100\n",
      "313/313 - 0s - loss: 0.3451 - 176ms/epoch - 564us/step\n",
      "Epoch 68/100\n",
      "313/313 - 0s - loss: 0.3436 - 172ms/epoch - 549us/step\n",
      "Epoch 69/100\n",
      "313/313 - 0s - loss: 0.3431 - 172ms/epoch - 548us/step\n",
      "Epoch 70/100\n",
      "313/313 - 0s - loss: 0.3436 - 172ms/epoch - 551us/step\n",
      "Epoch 71/100\n",
      "313/313 - 0s - loss: 0.3430 - 171ms/epoch - 547us/step\n",
      "Epoch 72/100\n",
      "313/313 - 0s - loss: 0.3428 - 171ms/epoch - 546us/step\n",
      "Epoch 73/100\n",
      "313/313 - 0s - loss: 0.3434 - 172ms/epoch - 549us/step\n",
      "Epoch 74/100\n",
      "313/313 - 0s - loss: 0.3437 - 172ms/epoch - 549us/step\n",
      "Epoch 75/100\n",
      "313/313 - 0s - loss: 0.3437 - 171ms/epoch - 547us/step\n",
      "Epoch 76/100\n",
      "313/313 - 0s - loss: 0.3434 - 171ms/epoch - 546us/step\n",
      "Epoch 77/100\n",
      "313/313 - 0s - loss: 0.3442 - 175ms/epoch - 560us/step\n",
      "Epoch 78/100\n",
      "313/313 - 0s - loss: 0.3430 - 179ms/epoch - 570us/step\n",
      "Epoch 79/100\n",
      "313/313 - 0s - loss: 0.3439 - 205ms/epoch - 654us/step\n",
      "Epoch 80/100\n",
      "313/313 - 0s - loss: 0.3443 - 178ms/epoch - 569us/step\n",
      "Epoch 81/100\n",
      "313/313 - 0s - loss: 0.3464 - 179ms/epoch - 573us/step\n",
      "Epoch 82/100\n",
      "313/313 - 0s - loss: 0.3453 - 215ms/epoch - 688us/step\n",
      "Epoch 83/100\n",
      "313/313 - 0s - loss: 0.3447 - 186ms/epoch - 594us/step\n",
      "Epoch 84/100\n",
      "313/313 - 0s - loss: 0.3415 - 192ms/epoch - 613us/step\n",
      "Epoch 85/100\n",
      "313/313 - 0s - loss: 0.3448 - 189ms/epoch - 605us/step\n",
      "Epoch 86/100\n",
      "313/313 - 0s - loss: 0.3445 - 187ms/epoch - 598us/step\n",
      "Epoch 87/100\n",
      "313/313 - 0s - loss: 0.3448 - 175ms/epoch - 558us/step\n",
      "Epoch 88/100\n",
      "313/313 - 0s - loss: 0.3436 - 181ms/epoch - 577us/step\n",
      "Epoch 89/100\n",
      "313/313 - 0s - loss: 0.3441 - 178ms/epoch - 569us/step\n",
      "Epoch 90/100\n",
      "313/313 - 0s - loss: 0.3427 - 178ms/epoch - 569us/step\n",
      "Epoch 91/100\n",
      "313/313 - 0s - loss: 0.3430 - 173ms/epoch - 551us/step\n",
      "Epoch 92/100\n",
      "313/313 - 0s - loss: 0.3449 - 173ms/epoch - 552us/step\n",
      "Epoch 93/100\n",
      "313/313 - 0s - loss: 0.3448 - 174ms/epoch - 556us/step\n",
      "Epoch 94/100\n",
      "313/313 - 0s - loss: 0.3423 - 173ms/epoch - 554us/step\n",
      "Epoch 95/100\n",
      "313/313 - 0s - loss: 0.3437 - 171ms/epoch - 548us/step\n",
      "Epoch 96/100\n",
      "313/313 - 0s - loss: 0.3448 - 173ms/epoch - 552us/step\n",
      "Epoch 97/100\n",
      "313/313 - 0s - loss: 0.3435 - 173ms/epoch - 553us/step\n",
      "Epoch 98/100\n",
      "313/313 - 0s - loss: 0.3434 - 172ms/epoch - 550us/step\n",
      "Epoch 99/100\n",
      "313/313 - 0s - loss: 0.3446 - 173ms/epoch - 553us/step\n",
      "Epoch 100/100\n",
      "313/313 - 0s - loss: 0.3429 - 189ms/epoch - 605us/step\n"
     ]
    },
    {
     "data": {
      "text/plain": [
       "<keras.callbacks.History at 0x7f96b856aa40>"
      ]
     },
     "execution_count": 25,
     "metadata": {},
     "output_type": "execute_result"
    }
   ],
   "source": [
    "input_size = 2     # xs and zs\n",
    "\n",
    "output_size = 1    # y\n",
    "\n",
    "model = tf.keras.Sequential([\n",
    "    tf.keras.layers.Dense(output_size,\n",
    "                         kernel_initializer = tf.random_uniform_initializer(minval = -0.1, \n",
    "                                                                            maxval = 0.1),\n",
    "                          bias_initializer = tf.random_uniform_initializer(minval = -0.1, \n",
    "                                                                            maxval = 0.1))\n",
    "])\n",
    "\n",
    "custom_optimazer = tf.keras.optimizers.SGD(learning_rate = 0.2)\n",
    "\n",
    "model.compile(optimizer = 'sgd', loss = 'mean_squared_error')\n",
    "\n",
    "model.fit(training_data['inputs'], training_data['targets'], epochs = 100, verbose = 2)"
   ]
  },
  {
   "cell_type": "markdown",
   "id": "d4c38e7b",
   "metadata": {},
   "source": [
    "* Tensorflow 2 is based on Keras, so that's the module needed to built a model.\n",
    "\n",
    "\n",
    "* tf.keras.Sequential() = function that specifies how the model will be laid down ('stacks layers').\n",
    "\n",
    "\n",
    "* Linear combination + Output = Layer\n",
    "\n",
    "\n",
    "* output = np.dot(inputs, weights) + bias\n",
    "\n",
    "\n",
    "* tf.keras.layers.Dense(output size) = takes the inputs provided to the model and calculated the dot product of the inputs and the weights and adds the bias (also applies activation function(optional)).\n",
    "\n",
    "\n",
    "* tf.keras.layers.Dense(output_size, kernel_initializer, bias_initializer) = function that laying down the model (used to 'stack layers') and initialize weights\n",
    "\n",
    "\n",
    "* tf.keras.optimazers.SGD(learning-rate) = stochastic gradient descent optimazer, including support for learning rate, momentum, decay, etc.\n",
    "\n",
    "\n",
    "* model.compile(optimizer, loss) = configures the model for training.\n",
    "\n",
    "\n",
    "* Epoch = iteration over the full dataset\n",
    "\n",
    "\n",
    "* verbose = 0 , stands for 'silent' or no output about the training is displayed\n",
    "\n",
    "\n",
    "* verbose = 1, stands for 'progress bar'\n",
    "\n",
    "\n",
    "* verbose = 2, stands for 'one line per epoch'\n",
    "\n",
    "\n",
    "* 2x - 3z + 5 + noise"
   ]
  },
  {
   "cell_type": "markdown",
   "id": "7918a4d8",
   "metadata": {},
   "source": [
    "## Extract The Weights And Bias"
   ]
  },
  {
   "cell_type": "code",
   "execution_count": 26,
   "id": "7d40d96e",
   "metadata": {},
   "outputs": [
    {
     "data": {
      "text/plain": [
       "[array([[ 2.016356  ],\n",
       "        [-0.01114745]], dtype=float32),\n",
       " array([5.0070696], dtype=float32)]"
      ]
     },
     "execution_count": 26,
     "metadata": {},
     "output_type": "execute_result"
    }
   ],
   "source": [
    "model.layers[0].get_weights()"
   ]
  },
  {
   "cell_type": "code",
   "execution_count": 27,
   "id": "3fcb1909",
   "metadata": {},
   "outputs": [
    {
     "data": {
      "text/plain": [
       "array([[ 2.016356  ],\n",
       "       [-0.01114745]], dtype=float32)"
      ]
     },
     "execution_count": 27,
     "metadata": {},
     "output_type": "execute_result"
    }
   ],
   "source": [
    "weights = model.layers[0].get_weights()[0]\n",
    "weights"
   ]
  },
  {
   "cell_type": "code",
   "execution_count": 28,
   "id": "32b76e91",
   "metadata": {},
   "outputs": [
    {
     "data": {
      "text/plain": [
       "array([5.0070696], dtype=float32)"
      ]
     },
     "execution_count": 28,
     "metadata": {},
     "output_type": "execute_result"
    }
   ],
   "source": [
    "bias = model.layers[0].get_weights()[1]\n",
    "bias"
   ]
  },
  {
   "cell_type": "markdown",
   "id": "32698b71",
   "metadata": {},
   "source": [
    "## Extract The Outputs (Make Predictions)"
   ]
  },
  {
   "cell_type": "code",
   "execution_count": 29,
   "id": "e3dedf44",
   "metadata": {},
   "outputs": [
    {
     "data": {
      "text/plain": [
       "array([[-10.7],\n",
       "       [ 21.5],\n",
       "       [ -6.4],\n",
       "       ...,\n",
       "       [ 22.9],\n",
       "       [ -4.9],\n",
       "       [  1.8]], dtype=float32)"
      ]
     },
     "execution_count": 29,
     "metadata": {},
     "output_type": "execute_result"
    }
   ],
   "source": [
    "# model.predict_on_batch(data) = calculates the outputs given inputs\n",
    "\n",
    "model.predict_on_batch(training_data['inputs']).round(1)"
   ]
  },
  {
   "cell_type": "code",
   "execution_count": 30,
   "id": "f1b25c4b",
   "metadata": {},
   "outputs": [
    {
     "data": {
      "text/plain": [
       "array([[-10.4],\n",
       "       [ 21.2],\n",
       "       [ -6.8],\n",
       "       ...,\n",
       "       [ 22.9],\n",
       "       [ -5.7],\n",
       "       [  2.7]])"
      ]
     },
     "execution_count": 30,
     "metadata": {},
     "output_type": "execute_result"
    }
   ],
   "source": [
    "training_data['targets'].round(1)"
   ]
  },
  {
   "cell_type": "markdown",
   "id": "6fd58328",
   "metadata": {},
   "source": [
    "## Plotting The Data"
   ]
  },
  {
   "cell_type": "code",
   "execution_count": 31,
   "id": "f83d335a",
   "metadata": {},
   "outputs": [
    {
     "data": {
      "image/png": "[encoded data removed]",
      "text/plain": [
       "<Figure size 640x480 with 1 Axes>"
      ]
     },
     "metadata": {},
     "output_type": "display_data"
    }
   ],
   "source": [
    "plt.plot(np.squeeze(model.predict_on_batch(training_data['inputs'])), \n",
    "        np.squeeze(training_data['targets']))\n",
    "plt.xlabel('outputs')\n",
    "plt.ylabel('targets')\n",
    "plt.show()"
   ]
  },
  {
   "cell_type": "code",
   "execution_count": null,
   "id": "4037b9d9",
   "metadata": {},
   "outputs": [],
   "source": []
  },
  {
   "cell_type": "code",
   "execution_count": null,
   "id": "375d96bd",
   "metadata": {},
   "outputs": [],
   "source": []
  },
  {
   "cell_type": "code",
   "execution_count": null,
   "id": "bde521c0",
   "metadata": {},
   "outputs": [],
   "source": []
  },
  {
   "cell_type": "code",
   "execution_count": null,
   "id": "32733d81",
   "metadata": {},
   "outputs": [],
   "source": []
  },
  {
   "cell_type": "code",
   "execution_count": null,
   "id": "03b675cd",
   "metadata": {},
   "outputs": [],
   "source": []
  },
  {
   "cell_type": "code",
   "execution_count": null,
   "id": "2876f4ce",
   "metadata": {},
   "outputs": [],
   "source": []
  },
  {
   "cell_type": "code",
   "execution_count": null,
   "id": "efb935a3",
   "metadata": {},
   "outputs": [],
   "source": []
  },
  {
   "cell_type": "code",
   "execution_count": null,
   "id": "98794cb0",
   "metadata": {},
   "outputs": [],
   "source": []
  },
  {
   "cell_type": "code",
   "execution_count": null,
   "id": "32ddc9c8",
   "metadata": {},
   "outputs": [],
   "source": []
  },
  {
   "cell_type": "code",
   "execution_count": null,
   "id": "aacfce22",
   "metadata": {},
   "outputs": [],
   "source": []
  },
  {
   "cell_type": "code",
   "execution_count": null,
   "id": "5ff1f6eb",
   "metadata": {},
   "outputs": [],
   "source": []
  },
  {
   "cell_type": "code",
   "execution_count": null,
   "id": "09a58760",
   "metadata": {},
   "outputs": [],
   "source": []
  },
  {
   "cell_type": "code",
   "execution_count": null,
   "id": "e5cde811",
   "metadata": {},
   "outputs": [],
   "source": []
  },
  {
   "cell_type": "code",
   "execution_count": null,
   "id": "e37550a7",
   "metadata": {},
   "outputs": [],
   "source": []
  },
  {
   "cell_type": "code",
   "execution_count": null,
   "id": "fe99313e",
   "metadata": {},
   "outputs": [],
   "source": []
  },
  {
   "cell_type": "code",
   "execution_count": null,
   "id": "e27d7c72",
   "metadata": {},
   "outputs": [],
   "source": []
  },
  {
   "cell_type": "code",
   "execution_count": 22,
   "id": "b4667556",
   "metadata": {},
   "outputs": [
    {
     "ename": "NameError",
     "evalue": "name 'targets' is not defined",
     "output_type": "error",
     "traceback": [
      "\u001b[0;31m---------------------------------------------------------------------------\u001b[0m",
      "\u001b[0;31mNameError\u001b[0m                                 Traceback (most recent call last)",
      "Cell \u001b[0;32mIn[22], line 1\u001b[0m\n\u001b[0;32m----> 1\u001b[0m targets \u001b[38;5;241m=\u001b[39m \u001b[43mtargets\u001b[49m\u001b[38;5;241m.\u001b[39mreshape(observations)\n\u001b[1;32m      2\u001b[0m fig \u001b[38;5;241m=\u001b[39m plt\u001b[38;5;241m.\u001b[39mfigure()\n\u001b[1;32m      3\u001b[0m ax \u001b[38;5;241m=\u001b[39m fig\u001b[38;5;241m.\u001b[39madd_subplor(\u001b[38;5;241m111\u001b[39m, projections \u001b[38;5;241m=\u001b[39m \u001b[38;5;124m'\u001b[39m\u001b[38;5;124m3d\u001b[39m\u001b[38;5;124m'\u001b[39m)\n",
      "\u001b[0;31mNameError\u001b[0m: name 'targets' is not defined"
     ]
    }
   ],
   "source": [
    "targets = targets.reshape(observations)\n",
    "fig = plt.figure()\n",
    "ax = fig.add_subplor(111, projections = '3d')\n",
    "ax.plot(xs, zs, targets)\n",
    "ax.set_xlabel('xs')\n",
    "ax.set_ylabel('zs')\n",
    "ax.set_zlabel('Targest')\n",
    "ax.view_init(azim = 100)\n",
    "plt.show()\n",
    "targets = targets.reshape(observations,1)"
   ]
  }
 ],
 "metadata": {
  "kernelspec": {
   "display_name": "Python [conda env:tf]",
   "language": "python",
   "name": "conda-env-tf-py"
  },
  "language_info": {
   "codemirror_mode": {
    "name": "ipython",
    "version": 3
   },
   "file_extension": ".py",
   "mimetype": "text/x-python",
   "name": "python",
   "nbconvert_exporter": "python",
   "pygments_lexer": "ipython3",
   "version": "3.10.9"
  }
 },
 "nbformat": 4,
 "nbformat_minor": 5
}
